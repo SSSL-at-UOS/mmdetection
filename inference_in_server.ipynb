{
 "cells": [
  {
   "cell_type": "code",
   "execution_count": 1,
   "metadata": {},
   "outputs": [],
   "source": [
    "from mmdet.apis import init_detector, inference_detector, async_inference_detector, show_result_pyplot\n",
    "from mmdet.utils.contextmanagers import concurrent\n",
    "import numpy as np\n",
    "import matplotlib.pyplot as plt \n",
    "import pycocotools.mask as maskUtils\n",
    "import mmcv\n",
    "import cv2\n",
    "import os \n",
    "import glob\n",
    "import time\n",
    "import sys\n",
    "\n",
    "from matplotlib import patches,  lines, colors\n",
    "from skimage.morphology import medial_axis, skeletonize\n",
    "from skimage.filters import threshold_otsu\n",
    "from skimage.measure import regionprops, label, regionprops_table\n",
    "import json\n",
    "import slidingwindow as sw\n",
    "\n",
    "# import shm_tools here\n",
    "sys.path.append('..')\n",
    "from shm_tools.shm_utils import imread, imwrite, inference_detector_sliding_window, connect_cracks, remove_cracks\n",
    "\n",
    "\n",
    "# read json file \n",
    "# decode the input json file to get the inference configuration "
   ]
  },
  {
   "cell_type": "code",
   "execution_count": 3,
   "metadata": {},
   "outputs": [],
   "source": [
    "# input json file\n",
    "\n",
    "inference_config = {\n",
    "    \"ptanFcltsCd\" : \"TN\", \n",
    "    \"anlyDataId\" : \"A0000001\",\n",
    "    \"anlyTargetPath\" : \"/aias/target/\",\n",
    "    \"anlyResultPath\" : \"/AI_DATA01/TN/study/01/result/\"\n",
    "}"
   ]
  },
  {
   "cell_type": "code",
   "execution_count": null,
   "metadata": {},
   "outputs": [],
   "source": [
    "# write a code the mmdetection result in the form of mattaport mask rcnn \n",
    "if inference_config[\"ptanFcltsCd\"] == \"TN\" :\n",
    "    config = '/home/soojin/mmdetection/project_work_dirs/express_cor/configs/cascade_mask_rcnn_x101_32x4d_dcn_fpn_carafe_1x_road_crack_200423.py'\n",
    "    checkpoint = '/home/soojin/mmdetection/project_work_dirs/express_cor/work_dirs/cascade_mask_rcnn_x101_32x4d_dcn_fpn_carafe_1x_road_crack_200423/epoch_26.pth'\n",
    "\n",
    "elif inference_config[\"ptanFcltsCd\"] == \"BR\" :\n",
    "    config = '/home/soojin/mmdetection/project_work_dirs/express_cor/configs/cascade_mask_rcnn_x101_32x4d_dcn_fpn_carafe_1x_road_crack_200423.py'\n",
    "    checkpoint = '/home/soojin/mmdetection/project_work_dirs/express_cor/work_dirs/cascade_mask_rcnn_x101_32x4d_dcn_fpn_carafe_1x_road_crack_200423/epoch_26.pth'\n",
    "\n",
    "elif inference_config[\"ptanFcltsCd\"] == \"BP\" :\n",
    "    config = '/home/soojin/mmdetection/project_work_dirs/express_cor/configs/cascade_mask_rcnn_x101_32x4d_dcn_fpn_carafe_1x_road_crack_200423.py'\n",
    "    checkpoint = '/home/soojin/mmdetection/project_work_dirs/express_cor/work_dirs/cascade_mask_rcnn_x101_32x4d_dcn_fpn_carafe_1x_road_crack_200423/epoch_26.pth'\n"
   ]
  },
  {
   "cell_type": "code",
   "execution_count": null,
   "metadata": {},
   "outputs": [],
   "source": [
    "\n",
    "device = 'cuda:0'\n",
    "model = init_detector(config, checkpoint, device=device)\n"
   ]
  },
  {
   "cell_type": "code",
   "execution_count": null,
   "metadata": {},
   "outputs": [],
   "source": [
    "try "
   ]
  }
 ],
 "metadata": {
  "kernelspec": {
   "display_name": "Python 3",
   "language": "python",
   "name": "python3"
  },
  "language_info": {
   "codemirror_mode": {
    "name": "ipython",
    "version": 3
   },
   "file_extension": ".py",
   "mimetype": "text/x-python",
   "name": "python",
   "nbconvert_exporter": "python",
   "pygments_lexer": "ipython3",
   "version": "3.7.7"
  }
 },
 "nbformat": 4,
 "nbformat_minor": 4
}
