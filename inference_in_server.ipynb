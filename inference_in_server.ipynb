{
 "cells": [
  {
   "cell_type": "code",
   "execution_count": 34,
   "metadata": {},
   "outputs": [],
   "source": [
    "# import required libraries\n",
    "\n",
    "from mmdet.apis import init_detector, inference_detector\n",
    "\n",
    "import numpy as np\n",
    "import mmcv\n",
    "import cv2\n",
    "import os \n",
    "import glob\n",
    "import sys\n",
    "import datetime\n",
    "import argparse\n",
    "\n",
    "from skimage.measure import  label, regionprops_table, find_contours\n",
    "from skimage.morphology import medial_axis, skeletonize\n",
    "import json\n",
    "\n",
    "sys.path.append('..')\n",
    "from shm_tools.shm_utils import imread, imwrite, inference_detector_sliding_window, connect_cracks, remove_cracks\n"
   ]
  },
  {
   "cell_type": "code",
   "execution_count": 35,
   "metadata": {},
   "outputs": [],
   "source": [
    "# input json file\n",
    "\n",
    "inference_config = {\n",
    "    \"ptanFcltsCd\" : \"TN\", \n",
    "    \"anlyDataId\" : \"A0000001\",\n",
    "    \"anlyTargetPath\" : \"/home/uosshm/바탕화면/200427_intermediate_report/test\",\n",
    "    \"anlyResultPath\" : \"/home/uosshm/바탕화면/200427_intermediate_report/test/result\"\n",
    "}"
   ]
  },
  {
   "cell_type": "code",
   "execution_count": 36,
   "metadata": {},
   "outputs": [],
   "source": [
    "# Set color mask\n",
    "color_mask = np.array([[255, 0, 0],\n",
    "                       [0, 255, 0],\n",
    "                       [0, 255, 255],\n",
    "                       [255, 0, 255],\n",
    "                      ], dtype=np.uint8)"
   ]
  },
  {
   "cell_type": "code",
   "execution_count": 48,
   "metadata": {},
   "outputs": [],
   "source": [
    "\n",
    "# set img path list \n",
    "img_folder =inference_config['anlyTargetPath']\n",
    "img_path_list = glob.glob(os.path.join(img_folder, '*.jpg')) + glob.glob(os.path.join(img_folder, '*.JPG'))\n",
    "img_path_list = sorted(img_path_list)\n",
    "\n",
    "# set result path?\n",
    "result_save_folder = inference_config[\"anlyResultPath\"]\n",
    "\n",
    "damage_detection_output = {}\n",
    "damage_detection_output[\"ptanFcltsCd\"] = inference_config[\"ptanFcltsCd\"]\n",
    "damage_detection_output[\"anlyDataId\"] = inference_config[\"anlyDataId\" ]\n",
    "damage_detection_output[\"pctrList\"] = []\n",
    "\n",
    "\n",
    "# loop through imgs in the list \n",
    "# detection and post processing for crack "
   ]
  },
  {
   "cell_type": "code",
   "execution_count": 49,
   "metadata": {},
   "outputs": [],
   "source": [
    "\n",
    "# Load trained damage detection model here\n",
    "if inference_config[\"ptanFcltsCd\"] == \"TN\" :\n",
    "    config = 'project_work_dirs/express_cor/configs/cascade_mask_rcnn_x101_32x4d_dcn_fpn_carafe_1x_road_crack_200423.py'\n",
    "    checkpoint = 'project_work_dirs/express_cor/work_dirs/cascade_mask_rcnn_x101_32x4d_dcn_fpn_carafe_1x_road_crack_200423/epoch_26.pth'\n",
    "\n",
    "elif inference_config[\"ptanFcltsCd\"] == \"BR\" :\n",
    "    config = 'project_work_dirs/express_cor/configs/cascade_mask_rcnn_x101_32x4d_dcn_fpn_carafe_1x_road_crack_200423.py'\n",
    "    checkpoint = 'project_work_dirs/express_cor/work_dirs/cascade_mask_rcnn_x101_32x4d_dcn_fpn_carafe_1x_road_crack_200423/epoch_26.pth'\n",
    "\n",
    "elif inference_config[\"ptanFcltsCd\"] == \"BP\" :\n",
    "    config = 'project_work_dirs/express_cor/configs/cascade_mask_rcnn_x101_32x4d_dcn_fpn_carafe_1x_road_crack_200423.py'\n",
    "    checkpoint = 'project_work_dirs/express_cor/work_dirs/cascade_mask_rcnn_x101_32x4d_dcn_fpn_carafe_1x_road_crack_200423/epoch_26.pth'\n",
    "\n",
    "# load the model on GPU\n",
    "device = 'cuda:0'\n",
    "model = init_detector(config, checkpoint, device=device)"
   ]
  },
  {
   "cell_type": "code",
   "execution_count": 50,
   "metadata": {},
   "outputs": [
    {
     "name": "stderr",
     "output_type": "stream",
     "text": [
      "inference by sliding window on 60548547-crack-concrete-wall-background.jpg: 100%|##########| 2/2 [00:01<00:00,  1.92it/s]\n",
      "inference by sliding window on DJI_0497.JPG: 100%|##########| 9/9 [00:03<00:00,  2.98it/s]\n"
     ]
    }
   ],
   "source": [
    "\n",
    "# inference for crack\n",
    "for num, img_path in enumerate(img_path_list) :\n",
    "\n",
    "    pctrList = {}\n",
    "\n",
    "    pctrList[\"strtDttm\"] = datetime.datetime.now().strftime(\"%Y%m%d%H%M%S\")\n",
    "    pctrList[\"anlyPctrId\"] = str(num+1)\n",
    "    pctrList[\"anlyPctrNm\"] = os.path.basename(img_path)\n",
    "    \n",
    "    _, mask_output = inference_detector_sliding_window(model, img_path, color_mask[0], score_thr = 0.1, window_size = 1024, overlap_ratio = 0.3)\n",
    "\n",
    "    if np.sum(mask_output) > 0:\n",
    "\n",
    "        mask_output = connect_cracks(mask_output)\n",
    "        mask_output = connect_cracks(mask_output)\n",
    "        mask_output = remove_cracks(mask_output)\n",
    "\n",
    "        skel, distance = medial_axis(mask_output, return_distance=True)\n",
    "        dist_on_skel = distance * skel\n",
    "\n",
    "        labels = label(mask_output)\n",
    "\n",
    "        damage_region_prop = regionprops_table(labels,  properties=('label', 'centroid'))\n",
    "\n",
    "        pctrList['cordList'] = []\n",
    "        \n",
    "        cordList_list = []\n",
    "\n",
    "        for label_num in range(np.max(labels)) :\n",
    "\n",
    "            a_label = labels == label_num+1\n",
    "\n",
    "            contours, _ = cv2.findContours(a_label.astype('uint8'), cv2.RETR_TREE, cv2.CHAIN_APPROX_NONE)\n",
    "\n",
    "            imprXcord = str()\n",
    "            imprYcord = str()\n",
    "\n",
    "            for countour in contours[0]:\n",
    "                imprYcord = imprYcord + str(countour[0][0]) + ','\n",
    "                imprXcord = imprXcord + str(countour[0][1]) + ','\n",
    "\n",
    "            imprYcord = imprYcord[:-1]\n",
    "            imprXcord = imprXcord[:-1]\n",
    "\n",
    "            imprCnterCord = str(damage_region_prop['centroid-0'][label_num])+ ',' + str(damage_region_prop['centroid-1'][label_num])\n",
    "\n",
    "            dist_label = dist_on_skel[a_label]\n",
    "\n",
    "            cordList = {}\n",
    "\n",
    "            cordList[\"cordTypeCd\"]  = \"2\"\n",
    "            cordList[\"imprXcord\"]  = imprXcord\n",
    "            cordList[\"imprYcord\"]  = imprYcord\n",
    "            cordList[\"imprCnterCord\"]  = imprCnterCord\n",
    "            cordList[\"imprTypeCd\"] = \"01\"\n",
    "            cordList[\"imprWdth\"] = str(dist_label[np.nonzero(dist_label)].mean()*0.2)\n",
    "            cordList[\"imprLnth\"] = str(np.sum(skel[a_label])*0.2)\n",
    "            cordList[\"imprBrdthVal\"] = \"\"\n",
    "            cordList[\"imprQntt\"] = \"\"\n",
    "            pctrList['cordList'].append(cordList)\n",
    "\n",
    "        pctrList[\"endDttm\"] = datetime.datetime.now().strftime(\"%Y%m%d%H%M%S\")\n",
    "        damage_detection_output[\"pctrList\"].append(pctrList)\n",
    "        \n",
    "\n",
    "    elif np.sum(mask_output) == 0:\n",
    "        print(img_path + ' has no crack detection result')"
   ]
  },
  {
   "cell_type": "code",
   "execution_count": 40,
   "metadata": {},
   "outputs": [],
   "source": [
    "\n",
    "# Load trained damage detection model here\n",
    "if inference_config[\"ptanFcltsCd\"] == \"TN\":\n",
    "    config = 'project_work_dirs/express_cor/configs/cascade_mask_rcnn_x101_32x4d_dcn_fpn_carafe_1x_road_crack_200423.py'\n",
    "    checkpoint = 'project_work_dirs/express_cor/work_dirs/cascade_mask_rcnn_x101_32x4d_dcn_fpn_carafe_1x_road_crack_200423/epoch_26.pth'\n",
    "\n",
    "elif inference_config[\"ptanFcltsCd\"] == \"BR\":\n",
    "    config = 'project_work_dirs/express_cor/configs/cascade_mask_rcnn_x101_32x4d_dcn_fpn_carafe_1x_road_crack_200423.py'\n",
    "    checkpoint = 'project_work_dirs/express_cor/work_dirs/cascade_mask_rcnn_x101_32x4d_dcn_fpn_carafe_1x_road_crack_200423/epoch_26.pth'\n",
    "\n",
    "elif inference_config[\"ptanFcltsCd\"] == \"BP\":\n",
    "    config = 'project_work_dirs/express_cor/configs/cascade_mask_rcnn_x101_32x4d_dcn_fpn_carafe_1x_road_crack_200423.py'\n",
    "    checkpoint = 'project_work_dirs/express_cor/work_dirs/cascade_mask_rcnn_x101_32x4d_dcn_fpn_carafe_1x_road_crack_200423/epoch_26.pth'\n",
    "\n",
    "# load the model on GPU\n",
    "device = 'cuda:0'\n",
    "model = init_detector(config, checkpoint, device=device)"
   ]
  },
  {
   "cell_type": "code",
   "execution_count": 62,
   "metadata": {},
   "outputs": [
    {
     "data": {
      "text/plain": [
       "13"
      ]
     },
     "execution_count": 62,
     "metadata": {},
     "output_type": "execute_result"
    }
   ],
   "source": [
    "len(damage_detection_output[\"pctrList\"][0]['cordList'])"
   ]
  },
  {
   "cell_type": "code",
   "execution_count": 63,
   "metadata": {},
   "outputs": [
    {
     "name": "stderr",
     "output_type": "stream",
     "text": [
      "inference by sliding window on 60548547-crack-concrete-wall-background.jpg: 100%|##########| 1/1 [00:00<00:00,  1.62it/s]\n",
      "inference by sliding window on DJI_0497.JPG: 100%|##########| 1/1 [00:00<00:00,  1.18it/s]\n"
     ]
    }
   ],
   "source": [
    "# inference for crack\n",
    "for pctr_num, pctrList in enumerate(damage_detection_output[\"pctrList\"]):\n",
    "    \n",
    "    img_path = os.path.join(img_folder, pctrList['anlyPctrNm'])\n",
    "    \n",
    "    _, mask_output = inference_detector_sliding_window(model, img_path, color_mask[0], score_thr=0.1, window_size=1024*3,\n",
    "                                                   overlap_ratio=0.3)\n",
    "    if np.sum(mask_output) > 0:\n",
    "\n",
    "        labels = label(mask_output)\n",
    "        damage_region_prop = regionprops_table(labels, properties=('label', 'centroid', 'bbox'))\n",
    "\n",
    "        for label_num in range(np.max(labels)):\n",
    "\n",
    "            a_label = labels == label_num + 1\n",
    "\n",
    "            contours, _ = cv2.findContours(a_label.astype('uint8'), cv2.RETR_TREE, cv2.CHAIN_APPROX_NONE)\n",
    "\n",
    "            imprXcord = str()\n",
    "            imprYcord = str()\n",
    "\n",
    "            for countour in contours[0]:\n",
    "                imprYcord = imprYcord + str(countour[0][0]) + ','\n",
    "                imprXcord = imprXcord + str(countour[0][1]) + ','\n",
    "\n",
    "            imprYcord = imprYcord[:-1]\n",
    "            imprXcord = imprXcord[:-1]\n",
    "\n",
    "            imprCnterCord = str(damage_region_prop['centroid-0'][label_num]) + ',' + str(damage_region_prop['centroid-1'][label_num])\n",
    "            \n",
    "            imprBrdthVal = str(damage_region_prop['bbox-0'][label_num]*damage_region_prop['bbox-1'][label_num]*0.2*0.2)\n",
    "\n",
    "            cordList = {}\n",
    "\n",
    "            cordList[\"cordTypeCd\"] = \"2\"\n",
    "            cordList[\"imprXcord\"] = imprXcord\n",
    "            cordList[\"imprYcord\"] = imprYcord\n",
    "            cordList[\"imprCnterCord\"] = imprCnterCord\n",
    "            cordList[\"imprTypeCd\"] = \"05\"\n",
    "            cordList[\"imprWdth\"] = \"\"\n",
    "            cordList[\"imprLnth\"] = \"\"\n",
    "            cordList[\"imprBrdthVal\"] = imprBrdthVal\n",
    "            cordList[\"imprQntt\"] = \"\"\n",
    "            pctrList['cordList'].append(cordList)\n",
    "            \n",
    "        damage_detection_output[\"pctrList\"][pctr_num] = pctrList\n",
    "\n",
    "\n",
    "    elif np.sum(mask_output) == 0:\n",
    "        print(img_path + ' has no crack detection result')"
   ]
  },
  {
   "cell_type": "code",
   "execution_count": 65,
   "metadata": {},
   "outputs": [],
   "source": [
    "# detection and post processing for efflorescence\n",
    "\n",
    "with open('person.txt', 'w') as json_file:\n",
    "    json.dump(damage_detection_output, json_file)"
   ]
  },
  {
   "cell_type": "code",
   "execution_count": null,
   "metadata": {},
   "outputs": [],
   "source": []
  }
 ],
 "metadata": {
  "kernelspec": {
   "display_name": "Python 3",
   "language": "python",
   "name": "python3"
  },
  "language_info": {
   "codemirror_mode": {
    "name": "ipython",
    "version": 3
   },
   "file_extension": ".py",
   "mimetype": "text/x-python",
   "name": "python",
   "nbconvert_exporter": "python",
   "pygments_lexer": "ipython3",
   "version": "3.7.7"
  }
 },
 "nbformat": 4,
 "nbformat_minor": 4
}
