{
 "cells": [
  {
   "cell_type": "code",
   "execution_count": null,
   "metadata": {},
   "outputs": [],
   "source": [
    "import glob\n",
    "import os\n",
    "import pathlib\n",
    "\n",
    "val_config_folder = 'project_work_dirs/multiple_damage_detection/configs/val_config/'\n",
    "val_configs = glob.glob(val_config_folder + '*')\n",
    "dist_test_script = './tools/dist_test.sh'\n",
    "checkpoint_root = 'project_work_dirs/multiple_damage_detection/work_dirs'\n",
    "gpu_num = '3'\n",
    "test_option = '--eval bbox segm'\n",
    "val_result_folder = 'val_result_pkl'\n",
    "\n",
    "for val_config in val_configs:\n",
    "    val_config_base = os.path.basename(val_config)\n",
    "    val_config_base, _ = os.path.splitext(val_config_base)\n",
    "    \n",
    "    pathlib.Path(os.path.join(val_result_folder, val_config_base)).mkdir(parents=True, exist_ok=True)\n",
    "    \n",
    "    for num in range(31, 51):\n",
    "        checkpoint = os.path.join(checkpoint_root, val_config_base, 'epoch_' + str(num) + '.pth')\n",
    "\n",
    "        val_save_dir = os.path.join(val_result_folder, val_config_base, 'epoch_' + str(num) + '_results.pkl')\n",
    "        result_path = '--out ' + val_save_dir\n",
    "\n",
    "        os.system(dist_test_script + ' ' + val_config + ' ' + checkpoint + ' ' + gpu_num + ' ' + result_path + ' ' + test_option)\n",
    "\n",
    "\n",
    "\n"
   ]
  }
 ],
 "metadata": {
  "kernelspec": {
   "display_name": "Python 3",
   "language": "python",
   "name": "python3"
  },
  "language_info": {
   "codemirror_mode": {
    "name": "ipython",
    "version": 3
   },
   "file_extension": ".py",
   "mimetype": "text/x-python",
   "name": "python",
   "nbconvert_exporter": "python",
   "pygments_lexer": "ipython3",
   "version": "3.7.1"
  }
 },
 "nbformat": 4,
 "nbformat_minor": 2
}
