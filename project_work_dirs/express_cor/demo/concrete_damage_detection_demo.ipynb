{
 "cells": [
  {
   "cell_type": "code",
   "execution_count": 1,
   "metadata": {},
   "outputs": [],
   "source": [
    "import numpy as np\n",
    "import slidingwindow as sw\n",
    "import sys\n",
    "\n",
    "from mmdet.apis import init_detector, inference_detector\n",
    "from mmcv.runner import load_checkpoint\n",
    "\n",
    "\n",
    "# import shm_tools here\n",
    "sys.path.append('..')\n",
    "from shm_tools.shm_utils import imread, imwrite"
   ]
  },
  {
   "cell_type": "code",
   "execution_count": 4,
   "metadata": {},
   "outputs": [],
   "source": [
    "'''\n",
    "\n",
    "1. Visualize how inference the images \n",
    "    1-1. Visualize Sliding Windows \n",
    "    1-2. Inference result display \n",
    "\n",
    "Things-to-do \n",
    "1. download checkpoints from the rtx server\n",
    "  1. tunnel efflorescence \n",
    "  2. tunnel crack \n",
    "  3. road crack \n",
    "  4. bridge crack / effloresences / spalling \n",
    "\n",
    "or do I have to re-train the model?? \n",
    "    \n",
    "\n",
    "\n",
    "''' \n",
    "\n",
    "## download checkpoint files from the rtx server \n",
    "\n",
    "config = '../configs/cascade_mask_rcnn_x101_64x4d_fpn_carafe_1x_road_crack_200318.py'\n",
    "checkpoint = '../work_dirs/cascade_mask_rcnn_x101_64x4d_fpn_carafe_1x_road_crack_200318/epoch_30.pth'\n",
    "\n",
    "device = 'cuda:0'\n",
    "model = init_detector(config, checkpoint, device=device)\n"
   ]
  },
  {
   "cell_type": "code",
   "execution_count": null,
   "metadata": {},
   "outputs": [],
   "source": [
    "# set image file path \n",
    "img = imread(os.path.join(root, file))\n",
    "windows = sw.generate(img, sw.DimOrder.HeightWidthChannel, 1024+512, 0 )\n",
    "\n",
    "# display original image \n",
    "# display original image with grid \n",
    "\n",
    "    "
   ]
  },
  {
   "cell_type": "code",
   "execution_count": 2,
   "metadata": {},
   "outputs": [
    {
     "ename": "NameError",
     "evalue": "name 'windows' is not defined",
     "output_type": "error",
     "traceback": [
      "\u001b[0;31m---------------------------------------------------------------------------\u001b[0m",
      "\u001b[0;31mNameError\u001b[0m                                 Traceback (most recent call last)",
      "\u001b[0;32m<ipython-input-2-5ad2bfde7a6b>\u001b[0m in \u001b[0;36m<module>\u001b[0;34m\u001b[0m\n\u001b[0;32m----> 1\u001b[0;31m \u001b[0;32mfor\u001b[0m \u001b[0mwindow\u001b[0m \u001b[0;32min\u001b[0m \u001b[0mwindows\u001b[0m\u001b[0;34m:\u001b[0m\u001b[0;34m\u001b[0m\u001b[0;34m\u001b[0m\u001b[0m\n\u001b[0m\u001b[1;32m      2\u001b[0m \u001b[0;34m\u001b[0m\u001b[0m\n\u001b[1;32m      3\u001b[0m     \u001b[0mimg_subset\u001b[0m \u001b[0;34m=\u001b[0m \u001b[0mimg\u001b[0m\u001b[0;34m[\u001b[0m\u001b[0mwindow\u001b[0m\u001b[0;34m.\u001b[0m\u001b[0mindices\u001b[0m\u001b[0;34m(\u001b[0m\u001b[0;34m)\u001b[0m\u001b[0;34m]\u001b[0m\u001b[0;34m\u001b[0m\u001b[0;34m\u001b[0m\u001b[0m\n\u001b[1;32m      4\u001b[0m \u001b[0;34m\u001b[0m\u001b[0m\n\u001b[1;32m      5\u001b[0m \u001b[0;34m\u001b[0m\u001b[0m\n",
      "\u001b[0;31mNameError\u001b[0m: name 'windows' is not defined"
     ]
    }
   ],
   "source": [
    "for window in windows: \n",
    "\n",
    "    img_subset = img[window.indices()]\n",
    "    \n",
    "    \n",
    "    results = inference_detector(model, img_subset)\n",
    "    bbox_results, seg_results = results\n",
    "    # add print progress of inference \n",
    "            "
   ]
  },
  {
   "cell_type": "code",
   "execution_count": 3,
   "metadata": {},
   "outputs": [],
   "source": [
    "# display original image vs detection result "
   ]
  },
  {
   "cell_type": "code",
   "execution_count": null,
   "metadata": {},
   "outputs": [],
   "source": [
    "# display image binarization \n",
    "# display image histogram distribution \n"
   ]
  }
 ],
 "metadata": {
  "kernelspec": {
   "display_name": "Python 3",
   "language": "python",
   "name": "python3"
  },
  "language_info": {
   "codemirror_mode": {
    "name": "ipython",
    "version": 3
   },
   "file_extension": ".py",
   "mimetype": "text/x-python",
   "name": "python",
   "nbconvert_exporter": "python",
   "pygments_lexer": "ipython3",
   "version": "3.7.7"
  }
 },
 "nbformat": 4,
 "nbformat_minor": 2
}
