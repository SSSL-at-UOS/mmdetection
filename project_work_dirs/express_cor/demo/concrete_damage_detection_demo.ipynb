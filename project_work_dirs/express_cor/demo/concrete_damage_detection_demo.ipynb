{
 "cells": [
  {
   "cell_type": "code",
   "execution_count": 5,
   "metadata": {},
   "outputs": [],
   "source": [
    "import numpy as np\n",
    "import slidingwindow as sw\n",
    "import matplotlib.pyplot as plt \n",
    "import sys\n",
    "import os \n",
    "\n",
    "import slidingwindow as sw\n",
    "import matplotlib.pyplot as plt \n",
    "\n",
    "from mmdet.apis import init_detector, inference_detector\n",
    "from mmcv.runner import load_checkpoint\n",
    "\n",
    "# import shm_tools here\n",
    "sys.path.append('..')\n",
    "from shm_tools.shm_utils import imread, imwrite, inference_detector_sliding_window\n",
    "from shm_tools.SlidingWindow import generateForNumberOfWindows"
   ]
  },
  {
   "cell_type": "code",
   "execution_count": 2,
   "metadata": {},
   "outputs": [],
   "source": [
    "## download checkpoint files from the rtx server \n",
    "\n",
    "config = '/home/byunghyun/Downloads/mask_rcnn_x101_64x4d_fpn_1x_bilin.py'\n",
    "checkpoint = '/home/byunghyun/Downloads/epoch_48.pth'\n",
    "\n",
    "device = 'cuda:0'\n",
    "model = init_detector(config, checkpoint, device=device)\n"
   ]
  },
  {
   "cell_type": "code",
   "execution_count": 7,
   "metadata": {},
   "outputs": [
    {
     "name": "stderr",
     "output_type": "stream",
     "text": [
      "inference by sliding window onp-366-서해안선_s005490000.jpg: 100%|##########| 133/133 [00:37<00:00,  3.56it/s]\n"
     ]
    }
   ],
   "source": [
    "# set image file path \n",
    "img = '/home/byunghyun/Downloads/p-366-서해안선_s005490000.jpg'\n",
    "\n",
    "color_mask = np.array([[255, 0, 0],\n",
    "                       [0, 255, 0],\n",
    "                       [0, 255, 255],\n",
    "                       [255, 0, 255],\n",
    "                      ], dtype=np.uint8)\n",
    "\n",
    "img_result, mask_output = inference_detector_sliding_window(model, img, color_mask[0], score_thr = 0.1, window_size = 1024, overlap_ratio = 0.5)\n",
    "\n",
    "imwrite('/home/byunghyun/Downloads/p-366-서해안선_s005490000_result.jpeg', img_result )\n",
    "    \n",
    "\n",
    "# display original image "
   ]
  },
  {
   "cell_type": "code",
   "execution_count": 9,
   "metadata": {},
   "outputs": [],
   "source": [
    "grid_x_coords = []\n",
    "grid_y_coords = []\n",
    "\n",
    "for window in windows: \n",
    "    grid_y_coord, grid_x_coord, _, _ = window.getRect()\n",
    "    grid_x_coords.append(grid_x_coord)\n",
    "    grid_y_coords.append(grid_y_coord)\n",
    "    \n",
    "grid_x_coords = np.sort(list(set(grid_x_coords)))\n",
    "grid_y_coords =  np.sort(list(set(grid_y_coords)))\n",
    "    "
   ]
  },
  {
   "cell_type": "code",
   "execution_count": 160,
   "metadata": {},
   "outputs": [
    {
     "data": {
      "text/plain": [
       "True"
      ]
     },
     "execution_count": 9,
     "metadata": {},
     "output_type": "execute_result"
    }
   ],
   "source": []
  },
  {
   "cell_type": "code",
   "execution_count": null,
   "metadata": {},
   "outputs": [],
   "source": []
  }
 ],
 "metadata": {
  "kernelspec": {
   "display_name": "Python 3",
   "language": "python",
   "name": "python3"
  },
  "language_info": {
   "codemirror_mode": {
    "name": "ipython",
    "version": 3
   },
   "file_extension": ".py",
   "mimetype": "text/x-python",
   "name": "python",
   "nbconvert_exporter": "python",
   "pygments_lexer": "ipython3",
   "version": "3.7.4"
  }
 },
 "nbformat": 4,
 "nbformat_minor": 2
}
