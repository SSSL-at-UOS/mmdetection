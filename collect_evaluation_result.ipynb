{
 "cells": [
  {
   "cell_type": "code",
   "execution_count": 1,
   "metadata": {},
   "outputs": [],
   "source": [
    "import glob \n",
    "import json\n",
    "import numpy as np \n",
    "import os\n",
    "\n",
    "val_eval_folders = glob.glob(\"val_result_json/*\")\n",
    "\n",
    "for val_eval_folder in val_eval_folders: \n",
    "    eval_results = glob.glob(val_eval_folder + '/*')\n",
    "    \n",
    "    epoch_nums = []\n",
    "    bbox_mAP_50 = []\n",
    "    for eval_result in eval_results:\n",
    "        with open(eval_result) as json_file:\n",
    "            data = json.load(json_file)\n",
    "        \n",
    "        eval_num = os.path.splitext(os.path.basename(eval_result))[0]\n",
    "        epoch_nums.append(eval_num)\n",
    "        bbox_mAP_50.append(eval_num)\n",
    "        bbox_mAP_50.append(data['bbox_mAP_50'])\n",
    "        \n",
    "    with open(val_eval_folder + 'eval_output.txt', 'w') as outfile:\n",
    "        json.dump(bbox_mAP_50, outfile)\n",
    "            \n"
   ]
  }
 ],
 "metadata": {
  "kernelspec": {
   "display_name": "Python 3",
   "language": "python",
   "name": "python3"
  },
  "language_info": {
   "codemirror_mode": {
    "name": "ipython",
    "version": 3
   },
   "file_extension": ".py",
   "mimetype": "text/x-python",
   "name": "python",
   "nbconvert_exporter": "python",
   "pygments_lexer": "ipython3",
   "version": "3.7.1"
  }
 },
 "nbformat": 4,
 "nbformat_minor": 2
}
