{
 "cells": [
  {
   "cell_type": "code",
   "execution_count": 3,
   "metadata": {},
   "outputs": [
    {
     "name": "stdout",
     "output_type": "stream",
     "text": [
      "Collecting scikit-image\n",
      "  Downloading scikit_image-0.16.2-cp37-cp37m-manylinux1_x86_64.whl (26.5 MB)\n",
      "\u001b[K     |████████████████████████████████| 26.5 MB 1.2 MB/s eta 0:00:01\n",
      "\u001b[?25hCollecting scipy>=0.19.0\n",
      "  Downloading scipy-1.4.1-cp37-cp37m-manylinux1_x86_64.whl (26.1 MB)\n",
      "\u001b[K     |████████████████████████████████| 26.1 MB 811 kB/s eta 0:00:01\n",
      "\u001b[?25hCollecting imageio>=2.3.0\n",
      "  Downloading imageio-2.8.0-py3-none-any.whl (3.3 MB)\n",
      "\u001b[K     |████████████████████████████████| 3.3 MB 2.1 MB/s eta 0:00:01\n",
      "\u001b[?25hRequirement already satisfied: pillow>=4.3.0 in /home/uosshm/anaconda3/envs/mmdetection/lib/python3.7/site-packages (from scikit-image) (7.0.0)\n",
      "Collecting networkx>=2.0\n",
      "  Downloading networkx-2.4-py3-none-any.whl (1.6 MB)\n",
      "\u001b[K     |████████████████████████████████| 1.6 MB 264 kB/s eta 0:00:01\n",
      "\u001b[?25hRequirement already satisfied: matplotlib!=3.0.0,>=2.0.0 in /home/uosshm/anaconda3/envs/mmdetection/lib/python3.7/site-packages (from scikit-image) (3.2.1)\n",
      "Collecting PyWavelets>=0.4.0\n",
      "  Downloading PyWavelets-1.1.1-cp37-cp37m-manylinux1_x86_64.whl (4.4 MB)\n",
      "\u001b[K     |████████████████████████████████| 4.4 MB 1.1 MB/s eta 0:00:01\n",
      "\u001b[?25hRequirement already satisfied: numpy>=1.13.3 in /home/uosshm/anaconda3/envs/mmdetection/lib/python3.7/site-packages (from scipy>=0.19.0->scikit-image) (1.18.2)\n",
      "Requirement already satisfied: decorator>=4.3.0 in /home/uosshm/anaconda3/envs/mmdetection/lib/python3.7/site-packages (from networkx>=2.0->scikit-image) (4.4.2)\n",
      "Requirement already satisfied: python-dateutil>=2.1 in /home/uosshm/anaconda3/envs/mmdetection/lib/python3.7/site-packages (from matplotlib!=3.0.0,>=2.0.0->scikit-image) (2.8.1)\n",
      "Requirement already satisfied: cycler>=0.10 in /home/uosshm/anaconda3/envs/mmdetection/lib/python3.7/site-packages (from matplotlib!=3.0.0,>=2.0.0->scikit-image) (0.10.0)\n",
      "Requirement already satisfied: kiwisolver>=1.0.1 in /home/uosshm/anaconda3/envs/mmdetection/lib/python3.7/site-packages (from matplotlib!=3.0.0,>=2.0.0->scikit-image) (1.1.0)\n",
      "Requirement already satisfied: pyparsing!=2.0.4,!=2.1.2,!=2.1.6,>=2.0.1 in /home/uosshm/anaconda3/envs/mmdetection/lib/python3.7/site-packages (from matplotlib!=3.0.0,>=2.0.0->scikit-image) (2.4.6)\n",
      "Requirement already satisfied: six>=1.5 in /home/uosshm/anaconda3/envs/mmdetection/lib/python3.7/site-packages (from python-dateutil>=2.1->matplotlib!=3.0.0,>=2.0.0->scikit-image) (1.14.0)\n",
      "Requirement already satisfied: setuptools in /home/uosshm/anaconda3/envs/mmdetection/lib/python3.7/site-packages (from kiwisolver>=1.0.1->matplotlib!=3.0.0,>=2.0.0->scikit-image) (46.1.3.post20200330)\n",
      "Installing collected packages: scipy, imageio, networkx, PyWavelets, scikit-image\n",
      "Successfully installed PyWavelets-1.1.1 imageio-2.8.0 networkx-2.4 scikit-image-0.16.2 scipy-1.4.1\n"
     ]
    }
   ],
   "source": [
    "!pip install scikit-image"
   ]
  },
  {
   "cell_type": "code",
   "execution_count": 4,
   "metadata": {},
   "outputs": [],
   "source": [
    "'''\n",
    "Which functions do I have to make?? \n",
    "\n",
    "run inference per image \n",
    "according to its scale \n",
    "then save the images into folders if there is \n",
    "also I have to make golden samples \n",
    "\n",
    "'''\n",
    "\n",
    "import numpy as np\n",
    "import slidingwindow as sw\n",
    "import sys\n",
    "import os\n",
    "\n",
    "from mmdet.apis import init_detector, inference_detector\n",
    "from mmcv.runner import load_checkpoint\n",
    "\n",
    "\n",
    "\n",
    "# import shm_tools here\n",
    "sys.path.append('..')\n",
    "from shm_tools.shm_utils import imread, imwrite"
   ]
  },
  {
   "cell_type": "code",
   "execution_count": 5,
   "metadata": {},
   "outputs": [],
   "source": [
    "## download checkpoint files from the rtx server \n",
    "\n",
    "config = './project_work_dirs/express_cor/configs/cascade_mask_rcnn_x101_64x4d_fpn_carafe_1x_road_crack_200318.py'\n",
    "checkpoint = './project_work_dirs/express_cor/work_dirs/cascade_mask_rcnn_x101_64x4d_fpn_carafe_1x_road_crack_200318/epoch_30.pth'\n",
    "\n",
    "device = 'cuda:0'\n",
    "model = init_detector(config, checkpoint, device=device)\n"
   ]
  },
  {
   "cell_type": "code",
   "execution_count": 41,
   "metadata": {},
   "outputs": [
    {
     "data": {
      "text/plain": [
       "'DSC00167'"
      ]
     },
     "execution_count": 41,
     "metadata": {},
     "output_type": "execute_result"
    }
   ],
   "source": [
    "filename_base[0]"
   ]
  },
  {
   "cell_type": "code",
   "execution_count": null,
   "metadata": {},
   "outputs": [],
   "source": [
    "imsave_folder = 'data/Gongju_bridge_image_using_drone/#_area_with_crack_detection'\n",
    "\n",
    "for root, dirs, files in os.walk('data/Gongju_bridge_image_using_drone'):\n",
    "    for file in files:\n",
    "        if file.endswith(\".JPG\") or file.endswith(\".jpg\") :\n",
    "#             print(os.path.join(root, file))\n",
    "            img = imread(os.path.join(root, file))\n",
    "            windows = sw.generate(img, sw.DimOrder.HeightWidthChannel, 1024+256, 0 )\n",
    "            img_num = 0\n",
    "        \n",
    "            for window in windows: # Can a multithreading be used here?? \n",
    "                img_num += 1 \n",
    "\n",
    "                img_subset = img[window.indices()]\n",
    "                results = inference_detector(model, img_subset)\n",
    "                bbox_results, seg_results = results\n",
    "                for bbox in bbox_results[0]: \n",
    "                    if bbox[-1] > 0.5:\n",
    "                        filename_base, _ = os.path.splitext(file)\n",
    "                        img_num_str = str(img_num)\n",
    "                        img_num_str = img_num_str.zfill(3)\n",
    "                        imsave_filename = filename_base + '_' + img_num_str + '.jpeg'\n",
    "                        imwrite(os.path.join(imsave_folder, imsave_filename), img_subset )\n",
    "                        break\n",
    "                \n",
    "            \n",
    "    "
   ]
  },
  {
   "cell_type": "code",
   "execution_count": 19,
   "metadata": {},
   "outputs": [],
   "source": []
  },
  {
   "cell_type": "code",
   "execution_count": 27,
   "metadata": {},
   "outputs": [
    {
     "name": "stdout",
     "output_type": "stream",
     "text": [
      "0.086606674\n",
      "0.06438841\n",
      "0.06340289\n",
      "0.058315504\n",
      "0.08071749\n",
      "0.11163888\n"
     ]
    }
   ],
   "source": [
    "for bbox in bbox_results[0]: \n",
    "    print(bbox[-1])\n",
    "    if bbox[-1] > 0.1:\n",
    "        imwrite(img_subset, )"
   ]
  },
  {
   "cell_type": "code",
   "execution_count": null,
   "metadata": {},
   "outputs": [],
   "source": [
    "\n",
    "img_folder = '/home/soojin/mmdetection_carafe/demo/exdemo_200220/아스팔트/'\n",
    "img_path_list = glob.glob(os.path.join(img_folder, '*.jpg')) + glob.glob(os.path.join(img_folder, '*.JPG'))\n",
    "\n",
    "for img_path in img_path_list : \n",
    "\n",
    "    img = imread(img_path)\n",
    "    img_result = img.copy()\n",
    "    score_thr = 0.1\n",
    "    # Generate the set of windows, with a 256-pixel max window size and 50% overlap\n",
    "\n",
    "    windows = sw.generate(img, sw.DimOrder.HeightWidthChannel, 256+512, 0.5)\n",
    "    mask_output = np.zeros((img.shape[0], img.shape[1]), dtype=np.bool)\n",
    "\n",
    "    for window in windows: # Can a multithreading be used here?? \n",
    "\n",
    "        img_subset = img[window.indices()]\n",
    "        results = inference_detector(model, img_subset)"
   ]
  }
 ],
 "metadata": {
  "kernelspec": {
   "display_name": "Python 3",
   "language": "python",
   "name": "python3"
  },
  "language_info": {
   "codemirror_mode": {
    "name": "ipython",
    "version": 3
   },
   "file_extension": ".py",
   "mimetype": "text/x-python",
   "name": "python",
   "nbconvert_exporter": "python",
   "pygments_lexer": "ipython3",
   "version": "3.7.7"
  }
 },
 "nbformat": 4,
 "nbformat_minor": 2
}
