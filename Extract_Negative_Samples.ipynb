{
 "cells": [
  {
   "cell_type": "code",
   "execution_count": 4,
   "metadata": {},
   "outputs": [],
   "source": [
    "import numpy as np\n",
    "import slidingwindow as sw\n",
    "import sys\n",
    "import os\n",
    "\n",
    "from mmdet.apis import init_detector, inference_detector\n",
    "from mmcv.runner import load_checkpoint\n",
    "\n",
    "\n",
    "\n",
    "# import shm_tools here\n",
    "sys.path.append('..')\n",
    "from shm_tools.shm_utils import imread, imwrite"
   ]
  },
  {
   "cell_type": "code",
   "execution_count": 5,
   "metadata": {},
   "outputs": [],
   "source": [
    "# load checkpoint file and configuration \n",
    "\n",
    "config = './project_work_dirs/express_cor/configs/cascade_mask_rcnn_x101_64x4d_fpn_carafe_1x_road_crack_200318.py'\n",
    "checkpoint = './project_work_dirs/express_cor/work_dirs/cascade_mask_rcnn_x101_64x4d_fpn_carafe_1x_road_crack_200318/epoch_30.pth'\n",
    "\n",
    "device = 'cuda:0'\n",
    "model = init_detector(config, checkpoint, device=device)\n"
   ]
  },
  {
   "cell_type": "code",
   "execution_count": 43,
   "metadata": {},
   "outputs": [],
   "source": [
    "# set the path of original images \n",
    "imsave_folder = 'data/Gongju_bridge_image_using_drone/#_area_with_crack_detection'\n",
    "\n",
    "# run inference with the trained network and save images that contains detection result with confidence bigger than 0.5\n",
    "for root, dirs, files in os.walk('data/Gongju_bridge_image_using_drone'):\n",
    "    for file in files:\n",
    "        if file.endswith(\".JPG\") or file.endswith(\".jpg\") :\n",
    "#             print(os.path.join(root, file))\n",
    "            img = imread(os.path.join(root, file))\n",
    "            windows = sw.generate(img, sw.DimOrder.HeightWidthChannel, 1024+256, 0 )\n",
    "            img_num = 0\n",
    "        \n",
    "            for window in windows: # Can a multithreading be used here?? \n",
    "                img_num += 1 \n",
    "\n",
    "                img_subset = img[window.indices()]\n",
    "                results = inference_detector(model, img_subset)\n",
    "                bbox_results, seg_results = results\n",
    "                for bbox in bbox_results[0]: \n",
    "                    if bbox[-1] > 0.5:\n",
    "                        filename_base, _ = os.path.splitext(file)\n",
    "                        img_num_str = str(img_num)\n",
    "                        img_num_str = img_num_str.zfill(3)\n",
    "                        imsave_filename = filename_base + '_' + img_num_str + '.jpeg'\n",
    "                        imwrite(os.path.join(imsave_folder, imsave_filename), img_subset )\n",
    "                        break\n",
    "                \n",
    "            \n",
    "    "
   ]
  }
 ],
 "metadata": {
  "kernelspec": {
   "display_name": "Python 3",
   "language": "python",
   "name": "python3"
  },
  "language_info": {
   "codemirror_mode": {
    "name": "ipython",
    "version": 3
   },
   "file_extension": ".py",
   "mimetype": "text/x-python",
   "name": "python",
   "nbconvert_exporter": "python",
   "pygments_lexer": "ipython3",
   "version": "3.7.7"
  }
 },
 "nbformat": 4,
 "nbformat_minor": 2
}
